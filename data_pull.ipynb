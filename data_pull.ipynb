{
 "cells": [
  {
   "cell_type": "markdown",
   "metadata": {},
   "source": [
    "Pulling list of applicable races, then using the PCS python API (unofficial) to pull results for those races for the last X years. Applicable races will be [UCI Pro and above](https://www.procyclingstats.com/races.php?season=2023&category=1&racelevel=2&pracelevel=smallerorequal&racenation=&class=&filter=Filter&p=uci&s=calendar-plus-filters), plus [national champs](https://www.procyclingstats.com/races.php?season=2023&category=1&racelevel=3&pracelevel=smallerorequal&racenation=&class=NC&filter=Filter&p=uci&s=calendar-plus-filters)"
   ]
  },
  {
   "cell_type": "code",
   "execution_count": 1,
   "metadata": {},
   "outputs": [],
   "source": [
    "import requests\n",
    "from bs4 import BeautifulSoup\n",
    "import pandas as pd\n",
    "from procyclingstats import Race, Stage\n",
    "import ast\n",
    "from tqdm import tqdm\n",
    "\n",
    "\n",
    "def get_races(year):\n",
    "    '''\n",
    "    Function to get a list of race URLs for a given year\n",
    "    '''\n",
    "    # URLs of the page to scrape - Pro Tour up and national championships\n",
    "    prefix = 'https://www.procyclingstats.com/races.php?season='\n",
    "    suffixes = [\n",
    "        '&category=1&racelevel=3&pracelevel=smallerorequal&racenation=&class=NC&filter=Filter&p=uci&s=calendar-plus-filters',\n",
    "        '&category=1&racelevel=2&pracelevel=smallerorequal&racenation=&class=&filter=Filter&p=uci&s=calendar-plus-filters'\n",
    "    ]\n",
    "    urls = [prefix + str(year) + suffix for suffix in suffixes]\n",
    "\n",
    "    # Iterate over the URLs\n",
    "    race_urls = []\n",
    "    for url in urls:\n",
    "        # Send a GET request to the page\n",
    "        response = requests.get(url)\n",
    "        response.raise_for_status()\n",
    "\n",
    "        # Parse the page content with BeautifulSoup\n",
    "        soup = BeautifulSoup(response.text, 'html.parser')\n",
    "\n",
    "        # Find all race entries\n",
    "        race_entries = soup.select('table tr a[href]')\n",
    "\n",
    "        # Extract race names and URLs\n",
    "        for entry in race_entries:\n",
    "            race_url = 'https://www.procyclingstats.com' + entry['href']\n",
    "            race_urls.append(race_url)\n",
    "\n",
    "    race_urls = list(set(race_urls)) # Drop duplicates, in case\n",
    "    race_urls = [race_url[31:] for race_url in race_urls] # Drop the beginning boilerplate from the URL - API doesn't need it\n",
    "\n",
    "    return race_urls\n",
    "\n",
    "def get_race_info(race_url, verbose=True):\n",
    "    '''\n",
    "    Function to get a list of stage URLs plus extra variables from the race page\n",
    "    https://procyclingstats.readthedocs.io/en/latest/api.html#procyclingstats.race_scraper.Race\n",
    "    Returns a dataframe with a row for each stage\n",
    "    '''\n",
    "    # TODO this should use a race_variables var to set variables, as in the below functions\n",
    "    race = Race(race_url)\n",
    "    stage_urls = {\n",
    "        'stage_url': [d['stage_url'] for d in race.stages()] or [f\"{race_url}/result\"] # elegance\n",
    "    }\n",
    "    extra_vars = {\n",
    "        'race_name': [race.name()],\n",
    "        'race_category': [race.category()],  \n",
    "        'uci_tour': [race.uci_tour()]\n",
    "    }\n",
    "    if(verbose):\n",
    "        print(f\"{extra_vars['race_name'][0]}\")\n",
    "    output = pd.merge(pd.DataFrame(extra_vars), pd.DataFrame(stage_urls), how='cross')\n",
    "    return output\n",
    "\n",
    "def fill_stage_info(race_df):\n",
    "    '''\n",
    "    Function to fill in the extra variables for each stage.\n",
    "    Iterates through URLs. Unpacking results happens later.\n",
    "    '''\n",
    "    # Drop troubling races\n",
    "    race_df = race_df[~race_df['stage_url'].str.contains('qinghai')]\n",
    "\n",
    "    # List of variables we want from each stage\n",
    "    stage_variables = ['is_one_day_race', 'distance', 'stage_type', 'winning_attack_length', \n",
    "                       'date', 'won_how', 'avg_speed_winner', 'avg_temperature', \n",
    "                       'vertical_meters', 'profile_icon', 'profile_score', \n",
    "                       'race_startlist_quality_score', 'results','gc','points','kom','youth','teams']\n",
    "    \n",
    "    # Preallocate an empty DataFrame with the same number of rows as race_df\n",
    "    stage_info_df = pd.DataFrame(index=race_df.index, columns=stage_variables)\n",
    "    \n",
    "    for i, stage_url in tqdm(enumerate(race_df['stage_url'])):\n",
    "        # print(f\"Filling stage info for {stage_url}\")\n",
    "\n",
    "        # Initialize selected_stage as empty\n",
    "        selected_stage = pd.DataFrame({key: [None] for key in stage_variables})\n",
    "\n",
    "        try:\n",
    "            stage = Stage(stage_url)\n",
    "        except:\n",
    "            print(f\"Error retrieving stage {i} at {stage_url}\")\n",
    "            # Assign the collected information to the preallocated DataFrame\n",
    "            stage_info_df.iloc[i] = selected_stage.iloc[0]\n",
    "            continue\n",
    "        \n",
    "        try:\n",
    "            # Parse the stage information\n",
    "            parsed_stage = stage.parse()\n",
    "            selected_stage.update({key: [parsed_stage[key]] for key in parsed_stage if key in stage_variables})\n",
    "        except Exception as e:\n",
    "            print(f\"Error parsing stage {i} at {stage_url}: {e}\")\n",
    "        \n",
    "        try:\n",
    "            # Get results\n",
    "            selected_stage['results'] = [stage.results()]\n",
    "        except Exception as e:\n",
    "            print(f\"Error retrieving results for stage {i} at {stage_url}: {e}\")\n",
    "        \n",
    "        # Assign the collected information to the preallocated DataFrame\n",
    "        stage_info_df.iloc[i] = selected_stage.iloc[0]\n",
    "    \n",
    "    # Concatenate the original race_df with the stage_info_df\n",
    "    combined_df = pd.concat([race_df, stage_info_df], axis=1)\n",
    "    \n",
    "    return combined_df\n",
    "\n",
    "def expand_results(filled_stage_df):\n",
    "    '''\n",
    "    Function to expand the main results column + secondary results columns\n",
    "    '''\n",
    "    # list of variables we want from main results\n",
    "    result_variables = ['rider_name', 'rider_url', 'team_name', 'team_url', 'rank','status','time','uci_points','pcs_points', 'age']\n",
    "    secondary_result_types = ['gc', 'points', 'kom', 'youth']  # 'teams' is not included here - need to add later as can't join onto rider_url\n",
    "    secondary_result_variables = ['rank','uci_points']\n",
    "    \n",
    "    df = pd.DataFrame(columns= list(filled_stage_df).extend(result_variables))\n",
    "\n",
    "    # Expand main results (stage-rider level)\n",
    "    print(\"Expanding main results\")\n",
    "    for i, row in tqdm(filled_stage_df.iterrows(),total=filled_stage_df.shape[0]):\n",
    "        results = row['results']\n",
    "        stage_info = pd.DataFrame(row).T.reset_index(drop=True)\n",
    "\n",
    "        if isinstance(results, str):\n",
    "            results = ast.literal_eval(results)\n",
    "        if not isinstance(results, list):\n",
    "            continue\n",
    "\n",
    "        # Expand main results\n",
    "        for result in results:\n",
    "            selected_result = pd.DataFrame({key: [value] for key, value in result.items() if key in result_variables})\n",
    "            full_row = pd.concat([stage_info, selected_result], axis=1).drop(columns=['results'])\n",
    "            df = pd.concat([df, full_row], ignore_index=True)\n",
    "\n",
    "    # Expand secondary results (gc, points, kom, youth, teams)\n",
    "    print(\"Expanding secondary results\")\n",
    "    for result_type in secondary_result_types:\n",
    "        expanded_secondary_results = pd.DataFrame()  # Temp dataframe to store expanded rows for each type\n",
    "\n",
    "        for i, row in tqdm(filled_stage_df.iterrows()):\n",
    "            results = row[result_type]\n",
    "            if isinstance(results, str):\n",
    "                results = ast.literal_eval(results)\n",
    "            if not isinstance(results, list):\n",
    "                continue\n",
    "\n",
    "            for result in results:\n",
    "                selected_result = pd.DataFrame(\n",
    "                    {f\"{result_type}_{key}\": [value] for key, value in result.items() if key in secondary_result_variables}\n",
    "                )\n",
    "                selected_result['stage_url'] = row['stage_url']\n",
    "                selected_result['rider_url'] = result.get('rider_url')\n",
    "                expanded_secondary_results = pd.concat([expanded_secondary_results, selected_result], ignore_index=True)\n",
    "\n",
    "        # Merge the accumulated secondary results for the current type into the main dataframe\n",
    "        df = pd.merge(df, expanded_secondary_results, on=['stage_url', 'rider_url'], how='left').drop(result_type, axis=1)\n",
    "\n",
    "    df = df.drop('teams', axis=1)  # Drop teams for now\n",
    "\n",
    "    return df\n",
    "\n",
    "def pull_race_data(years):\n",
    "    '''\n",
    "    Function to pull all data for a given year or years\n",
    "    '''\n",
    "    combined_df = pd.DataFrame()\n",
    "    for year in years:\n",
    "        df = pd.DataFrame()\n",
    "        print(f\"Pulling races for {year}\")\n",
    "        race_urls = get_races(year)\n",
    "        for race_url in tqdm(race_urls):\n",
    "            df = pd.concat([df, get_race_info(race_url,verbose=False)], ignore_index=True)\n",
    "        df.to_csv(f\"race_df_{year}.csv\", index=False)\n",
    "        print(f\"Filling stages for {year}\")\n",
    "        df = fill_stage_info(df)\n",
    "        df.to_csv(f\"stage_df_{year}.csv\", index=False)\n",
    "        print(f\"Expanding results for {year}\")\n",
    "        df = expand_results(df)\n",
    "        df.to_csv(f\"results_df_{year}.csv\", index=False)\n",
    "        combined_df = pd.concat([combined_df, df], ignore_index=True)\n",
    "    combined_df.to_csv(f\"results_df_{years[0]}_{years[-1]}.csv\", index=False)\n",
    "    return combined_df"
   ]
  },
  {
   "cell_type": "code",
   "execution_count": 4,
   "metadata": {},
   "outputs": [
    {
     "name": "stdout",
     "output_type": "stream",
     "text": [
      "Pulling races for 2018\n"
     ]
    },
    {
     "name": "stderr",
     "output_type": "stream",
     "text": [
      "100%|██████████| 191/191 [02:19<00:00,  1.37it/s]\n"
     ]
    },
    {
     "name": "stdout",
     "output_type": "stream",
     "text": [
      "Filling stages for 2018\n"
     ]
    },
    {
     "name": "stderr",
     "output_type": "stream",
     "text": [
      "2it [00:01,  1.23it/s]"
     ]
    },
    {
     "name": "stdout",
     "output_type": "stream",
     "text": [
      "Error parsing stage 1 at race/nc-cyprus-itt/2018/result: could not convert string to float: '-'\n"
     ]
    },
    {
     "name": "stderr",
     "output_type": "stream",
     "text": [
      "5it [00:03,  1.36it/s]"
     ]
    },
    {
     "name": "stdout",
     "output_type": "stream",
     "text": [
      "Error parsing stage 4 at race/nc-eritrea-itt/2018/result: could not convert string to float: '-'\n"
     ]
    },
    {
     "name": "stderr",
     "output_type": "stream",
     "text": [
      "47it [00:42,  1.17it/s]"
     ]
    },
    {
     "name": "stdout",
     "output_type": "stream",
     "text": [
      "Error parsing stage 46 at race/nc-tunisia-itt/2018/result: could not convert string to float: '-'\n"
     ]
    },
    {
     "name": "stderr",
     "output_type": "stream",
     "text": [
      "63it [00:56,  1.17it/s]"
     ]
    },
    {
     "name": "stdout",
     "output_type": "stream",
     "text": [
      "Error parsing stage 62 at race/nc-uruguay/2018/result: could not convert string to float: '-'\n",
      "Error retrieving results for stage 62 at race/nc-uruguay/2018/result: Results table not in page HTML\n"
     ]
    },
    {
     "name": "stderr",
     "output_type": "stream",
     "text": [
      "173it [02:45,  1.26it/s]"
     ]
    },
    {
     "name": "stdout",
     "output_type": "stream",
     "text": [
      "Error parsing stage 172 at race/nc-eritrea/2018/result: could not convert string to float: '-'\n"
     ]
    },
    {
     "name": "stderr",
     "output_type": "stream",
     "text": [
      "198it [03:09,  1.10it/s]"
     ]
    },
    {
     "name": "stdout",
     "output_type": "stream",
     "text": [
      "Error parsing stage 197 at race/nc-cuba-road-race/2018/result: could not convert string to float: '-'\n"
     ]
    },
    {
     "name": "stderr",
     "output_type": "stream",
     "text": [
      "216it [03:24,  1.34it/s]"
     ]
    },
    {
     "name": "stdout",
     "output_type": "stream",
     "text": [
      "Error parsing stage 215 at race/nc-cuba-itt/2018/result: could not convert string to float: '-'\n"
     ]
    },
    {
     "name": "stderr",
     "output_type": "stream",
     "text": [
      "322it [05:07,  1.12it/s]"
     ]
    },
    {
     "name": "stdout",
     "output_type": "stream",
     "text": [
      "Error parsing stage 321 at race/nc-uzbekistan-itt/2018/result: could not convert string to float: '-'\n"
     ]
    },
    {
     "name": "stderr",
     "output_type": "stream",
     "text": [
      "387it [06:12,  1.16it/s]"
     ]
    },
    {
     "name": "stdout",
     "output_type": "stream",
     "text": [
      "Error parsing stage 386 at race/nc-greece-itt/2018/result: could not convert string to float: '-'\n"
     ]
    },
    {
     "name": "stderr",
     "output_type": "stream",
     "text": [
      "422it [06:44,  1.04it/s]\n"
     ]
    },
    {
     "name": "stdout",
     "output_type": "stream",
     "text": [
      "Expanding results for 2018\n",
      "Expanding main results\n"
     ]
    },
    {
     "name": "stderr",
     "output_type": "stream",
     "text": [
      "100%|██████████| 422/422 [02:13<00:00,  3.15it/s]\n"
     ]
    },
    {
     "name": "stdout",
     "output_type": "stream",
     "text": [
      "Expanding secondary results\n"
     ]
    },
    {
     "name": "stderr",
     "output_type": "stream",
     "text": [
      "422it [00:12, 34.99it/s]\n",
      "422it [00:02, 165.05it/s]\n",
      "422it [00:01, 410.77it/s]\n",
      "422it [00:01, 323.61it/s]\n"
     ]
    },
    {
     "name": "stdout",
     "output_type": "stream",
     "text": [
      "Pulling races for 2019\n"
     ]
    },
    {
     "name": "stderr",
     "output_type": "stream",
     "text": [
      "100%|██████████| 189/189 [02:12<00:00,  1.43it/s]\n"
     ]
    },
    {
     "name": "stdout",
     "output_type": "stream",
     "text": [
      "Filling stages for 2019\n"
     ]
    },
    {
     "name": "stderr",
     "output_type": "stream",
     "text": [
      "33it [00:33,  1.13it/s]"
     ]
    },
    {
     "name": "stdout",
     "output_type": "stream",
     "text": [
      "Error parsing stage 32 at race/tour-de-pologne/2019/stage-4: could not convert string to float: '-'\n",
      "Error retrieving results for stage 32 at race/tour-de-pologne/2019/stage-4: Results table not in page HTML\n"
     ]
    },
    {
     "name": "stderr",
     "output_type": "stream",
     "text": [
      "39it [00:38,  1.12it/s]"
     ]
    },
    {
     "name": "stdout",
     "output_type": "stream",
     "text": [
      "Error parsing stage 38 at race/nc-mongolia/2019/result: could not convert string to float: '-'\n"
     ]
    },
    {
     "name": "stderr",
     "output_type": "stream",
     "text": [
      "57it [00:55,  1.21it/s]"
     ]
    },
    {
     "name": "stdout",
     "output_type": "stream",
     "text": [
      "Error parsing stage 56 at race/nc-uruguay/2019/result: could not convert string to float: '-'\n"
     ]
    },
    {
     "name": "stderr",
     "output_type": "stream",
     "text": [
      "67it [01:03,  1.40it/s]"
     ]
    },
    {
     "name": "stdout",
     "output_type": "stream",
     "text": [
      "Error parsing stage 66 at race/nc-belize-itt/2019/result: could not convert string to float: '-'\n"
     ]
    },
    {
     "name": "stderr",
     "output_type": "stream",
     "text": [
      "191it [03:04,  1.36it/s]"
     ]
    },
    {
     "name": "stdout",
     "output_type": "stream",
     "text": [
      "Error parsing stage 190 at race/nc-ecuador/2019/result: could not convert string to float: '-'\n"
     ]
    },
    {
     "name": "stderr",
     "output_type": "stream",
     "text": [
      "197it [03:09,  1.33it/s]"
     ]
    },
    {
     "name": "stdout",
     "output_type": "stream",
     "text": [
      "Error parsing stage 196 at race/nc-south-korea-itt/2019/result: could not convert string to float: '-'\n"
     ]
    },
    {
     "name": "stderr",
     "output_type": "stream",
     "text": [
      "235it [03:46,  1.24it/s]"
     ]
    },
    {
     "name": "stdout",
     "output_type": "stream",
     "text": [
      "Error parsing stage 234 at race/nc-georgia-itt/2019/result: could not convert string to float: '-'\n"
     ]
    },
    {
     "name": "stderr",
     "output_type": "stream",
     "text": [
      "315it [04:58,  1.17it/s]"
     ]
    },
    {
     "name": "stdout",
     "output_type": "stream",
     "text": [
      "Error parsing stage 314 at race/nc-mongolia-itt/2019/result: could not convert string to float: '-'\n"
     ]
    },
    {
     "name": "stderr",
     "output_type": "stream",
     "text": [
      "360it [05:44,  1.09s/it]"
     ]
    },
    {
     "name": "stdout",
     "output_type": "stream",
     "text": [
      "Error parsing stage 359 at race/nc-eritrea-itt/2019/result: could not convert string to float: '-'\n"
     ]
    },
    {
     "name": "stderr",
     "output_type": "stream",
     "text": [
      "411it [06:30,  1.05it/s]"
     ]
    },
    {
     "name": "stdout",
     "output_type": "stream",
     "text": [
      "Error parsing stage 410 at race/nc-iran-itt/2019/result: could not convert string to float: '-'\n"
     ]
    },
    {
     "name": "stderr",
     "output_type": "stream",
     "text": [
      "\n"
     ]
    },
    {
     "name": "stdout",
     "output_type": "stream",
     "text": [
      "Expanding results for 2019\n",
      "Expanding main results\n"
     ]
    },
    {
     "name": "stderr",
     "output_type": "stream",
     "text": [
      "100%|██████████| 411/411 [02:03<00:00,  3.32it/s]\n"
     ]
    },
    {
     "name": "stdout",
     "output_type": "stream",
     "text": [
      "Expanding secondary results\n"
     ]
    },
    {
     "name": "stderr",
     "output_type": "stream",
     "text": [
      "411it [00:11, 36.50it/s]\n",
      "411it [00:02, 177.95it/s]\n",
      "411it [00:01, 407.23it/s]\n",
      "411it [00:01, 287.35it/s]\n"
     ]
    },
    {
     "name": "stdout",
     "output_type": "stream",
     "text": [
      "Pulling races for 2020\n"
     ]
    },
    {
     "name": "stderr",
     "output_type": "stream",
     "text": [
      "100%|██████████| 188/188 [02:04<00:00,  1.51it/s]\n"
     ]
    },
    {
     "name": "stdout",
     "output_type": "stream",
     "text": [
      "Filling stages for 2020\n"
     ]
    },
    {
     "name": "stderr",
     "output_type": "stream",
     "text": [
      "1it [00:00,  1.24it/s]"
     ]
    },
    {
     "name": "stdout",
     "output_type": "stream",
     "text": [
      "Error parsing stage 0 at race/nc-mauritius/2020/result: could not convert string to float: '-'\n"
     ]
    },
    {
     "name": "stderr",
     "output_type": "stream",
     "text": [
      "2it [00:01,  1.47it/s]"
     ]
    },
    {
     "name": "stdout",
     "output_type": "stream",
     "text": [
      "Error parsing stage 1 at race/nc-kosovo-itt/2020/result: could not convert string to float: '-'\n"
     ]
    },
    {
     "name": "stderr",
     "output_type": "stream",
     "text": [
      "3it [00:02,  1.53it/s]"
     ]
    },
    {
     "name": "stdout",
     "output_type": "stream",
     "text": [
      "Error parsing stage 2 at race/ride-london-classic/2020/result: could not convert string to float: '-'\n",
      "Error retrieving results for stage 2 at race/ride-london-classic/2020/result: Results table not in page HTML\n"
     ]
    },
    {
     "name": "stderr",
     "output_type": "stream",
     "text": [
      "6it [00:04,  1.30it/s]"
     ]
    },
    {
     "name": "stdout",
     "output_type": "stream",
     "text": [
      "Error parsing stage 5 at race/nc-macedonia-itt/2020/result: could not convert string to float: '-'\n"
     ]
    },
    {
     "name": "stderr",
     "output_type": "stream",
     "text": [
      "12it [00:08,  1.37it/s]"
     ]
    },
    {
     "name": "stdout",
     "output_type": "stream",
     "text": [
      "Error parsing stage 11 at race/nokere-koers/2020/result: could not convert string to float: '-'\n",
      "Error retrieving results for stage 11 at race/nokere-koers/2020/result: Results table not in page HTML\n"
     ]
    },
    {
     "name": "stderr",
     "output_type": "stream",
     "text": [
      "14it [00:10,  1.36it/s]"
     ]
    },
    {
     "name": "stdout",
     "output_type": "stream",
     "text": [
      "Error parsing stage 13 at race/nc-china-itt/2020/result: could not convert string to float: '-'\n"
     ]
    },
    {
     "name": "stderr",
     "output_type": "stream",
     "text": [
      "21it [00:16,  1.15it/s]"
     ]
    },
    {
     "name": "stdout",
     "output_type": "stream",
     "text": [
      "Error parsing stage 20 at race/coppa-bernocchi/2020/result: could not convert string to float: '-'\n",
      "Error retrieving results for stage 20 at race/coppa-bernocchi/2020/result: Results table not in page HTML\n"
     ]
    },
    {
     "name": "stderr",
     "output_type": "stream",
     "text": [
      "24it [00:18,  1.23it/s]"
     ]
    },
    {
     "name": "stdout",
     "output_type": "stream",
     "text": [
      "Error parsing stage 23 at race/nc-romania/2020/result: could not convert string to float: '-'\n"
     ]
    },
    {
     "name": "stderr",
     "output_type": "stream",
     "text": [
      "25it [00:19,  1.32it/s]"
     ]
    },
    {
     "name": "stdout",
     "output_type": "stream",
     "text": [
      "Error parsing stage 24 at race/cyclassics-hamburg/2020/result: could not convert string to float: '-'\n",
      "Error retrieving results for stage 24 at race/cyclassics-hamburg/2020/result: Results table not in page HTML\n"
     ]
    },
    {
     "name": "stderr",
     "output_type": "stream",
     "text": [
      "26it [00:20,  1.42it/s]"
     ]
    },
    {
     "name": "stdout",
     "output_type": "stream",
     "text": [
      "Error parsing stage 25 at race/circuit-franco-belge/2020/result: could not convert string to float: '-'\n",
      "Error retrieving results for stage 25 at race/circuit-franco-belge/2020/result: Results table not in page HTML\n"
     ]
    },
    {
     "name": "stderr",
     "output_type": "stream",
     "text": [
      "27it [00:20,  1.42it/s]"
     ]
    },
    {
     "name": "stdout",
     "output_type": "stream",
     "text": [
      "Error parsing stage 26 at race/munsterland-giro/2020/result: could not convert string to float: '-'\n",
      "Error retrieving results for stage 26 at race/munsterland-giro/2020/result: Results table not in page HTML\n"
     ]
    },
    {
     "name": "stderr",
     "output_type": "stream",
     "text": [
      "49it [00:42,  1.08it/s]"
     ]
    },
    {
     "name": "stdout",
     "output_type": "stream",
     "text": [
      "Error retrieving stage 48 at race/tour-of-denmark/2020/result\n"
     ]
    },
    {
     "name": "stderr",
     "output_type": "stream",
     "text": [
      "50it [00:43,  1.11it/s]"
     ]
    },
    {
     "name": "stdout",
     "output_type": "stream",
     "text": [
      "Error parsing stage 49 at race/japan-cup/2020/result: could not convert string to float: '-'\n",
      "Error retrieving results for stage 49 at race/japan-cup/2020/result: Results table not in page HTML\n"
     ]
    },
    {
     "name": "stderr",
     "output_type": "stream",
     "text": [
      "77it [01:10,  1.11it/s]"
     ]
    },
    {
     "name": "stdout",
     "output_type": "stream",
     "text": [
      "Error parsing stage 76 at race/nc-albania-itt/2020/result: could not convert string to float: '-'\n"
     ]
    },
    {
     "name": "stderr",
     "output_type": "stream",
     "text": [
      "83it [01:14,  1.37it/s]"
     ]
    },
    {
     "name": "stdout",
     "output_type": "stream",
     "text": [
      "Error retrieving stage 82 at race/tour-de-yorkshire/2020/result\n"
     ]
    },
    {
     "name": "stderr",
     "output_type": "stream",
     "text": [
      "102it [01:34,  1.15it/s]"
     ]
    },
    {
     "name": "stdout",
     "output_type": "stream",
     "text": [
      "Error parsing stage 101 at race/nc-mauritius-itt/2020/result: could not convert string to float: '-'\n"
     ]
    },
    {
     "name": "stderr",
     "output_type": "stream",
     "text": [
      "109it [01:39,  1.28it/s]"
     ]
    },
    {
     "name": "stdout",
     "output_type": "stream",
     "text": [
      "Error parsing stage 108 at race/national-championships-iceland-itt/2020/result: could not convert string to float: '-'\n"
     ]
    },
    {
     "name": "stderr",
     "output_type": "stream",
     "text": [
      "116it [01:45,  1.15it/s]"
     ]
    },
    {
     "name": "stdout",
     "output_type": "stream",
     "text": [
      "Error parsing stage 115 at race/nc-ukraine-itt/2020/result: could not convert string to float: '-'\n"
     ]
    },
    {
     "name": "stderr",
     "output_type": "stream",
     "text": [
      "124it [01:53,  1.22it/s]"
     ]
    },
    {
     "name": "stdout",
     "output_type": "stream",
     "text": [
      "Error parsing stage 123 at race/gp-quebec/2020/result: could not convert string to float: '-'\n",
      "Error retrieving results for stage 123 at race/gp-quebec/2020/result: Results table not in page HTML\n"
     ]
    },
    {
     "name": "stderr",
     "output_type": "stream",
     "text": [
      "128it [01:56,  1.21it/s]"
     ]
    },
    {
     "name": "stdout",
     "output_type": "stream",
     "text": [
      "Error parsing stage 127 at race/nc-bermuda/2020/result: could not convert string to float: '-'\n"
     ]
    },
    {
     "name": "stderr",
     "output_type": "stream",
     "text": [
      "129it [01:57,  1.22it/s]"
     ]
    },
    {
     "name": "stdout",
     "output_type": "stream",
     "text": [
      "Error parsing stage 128 at race/nc-china/2020/result: could not convert string to float: '-'\n"
     ]
    },
    {
     "name": "stderr",
     "output_type": "stream",
     "text": [
      "130it [01:57,  1.22it/s]"
     ]
    },
    {
     "name": "stdout",
     "output_type": "stream",
     "text": [
      "Error parsing stage 129 at race/gp-de-wallonie/2020/result: could not convert string to float: '-'\n",
      "Error retrieving results for stage 129 at race/gp-de-wallonie/2020/result: Results table not in page HTML\n"
     ]
    },
    {
     "name": "stderr",
     "output_type": "stream",
     "text": [
      "132it [01:59,  1.33it/s]"
     ]
    },
    {
     "name": "stdout",
     "output_type": "stream",
     "text": [
      "Error parsing stage 131 at race/eschborn-frankfurt/2020/result: could not convert string to float: '-'\n",
      "Error retrieving results for stage 131 at race/eschborn-frankfurt/2020/result: Results table not in page HTML\n"
     ]
    },
    {
     "name": "stderr",
     "output_type": "stream",
     "text": [
      "135it [02:01,  1.25it/s]"
     ]
    },
    {
     "name": "stdout",
     "output_type": "stream",
     "text": [
      "Error parsing stage 134 at race/renewi-tour/2020/stage-2: could not convert string to float: '-'\n",
      "Error retrieving results for stage 134 at race/renewi-tour/2020/stage-2: Results table not in page HTML\n"
     ]
    },
    {
     "name": "stderr",
     "output_type": "stream",
     "text": [
      "140it [02:06,  1.26it/s]"
     ]
    },
    {
     "name": "stdout",
     "output_type": "stream",
     "text": [
      "Error parsing stage 139 at race/deutschland-tour/2020/stage-1: could not convert string to float: '-'\n",
      "Error retrieving results for stage 139 at race/deutschland-tour/2020/stage-1: Results table not in page HTML\n"
     ]
    },
    {
     "name": "stderr",
     "output_type": "stream",
     "text": [
      "141it [02:06,  1.35it/s]"
     ]
    },
    {
     "name": "stdout",
     "output_type": "stream",
     "text": [
      "Error parsing stage 140 at race/deutschland-tour/2020/stage-2: could not convert string to float: '-'\n",
      "Error retrieving results for stage 140 at race/deutschland-tour/2020/stage-2: Results table not in page HTML\n"
     ]
    },
    {
     "name": "stderr",
     "output_type": "stream",
     "text": [
      "142it [02:07,  1.42it/s]"
     ]
    },
    {
     "name": "stdout",
     "output_type": "stream",
     "text": [
      "Error parsing stage 141 at race/deutschland-tour/2020/stage-3: could not convert string to float: '-'\n",
      "Error retrieving results for stage 141 at race/deutschland-tour/2020/stage-3: Results table not in page HTML\n"
     ]
    },
    {
     "name": "stderr",
     "output_type": "stream",
     "text": [
      "143it [02:08,  1.45it/s]"
     ]
    },
    {
     "name": "stdout",
     "output_type": "stream",
     "text": [
      "Error parsing stage 142 at race/deutschland-tour/2020/stage-4: could not convert string to float: '-'\n",
      "Error retrieving results for stage 142 at race/deutschland-tour/2020/stage-4: Results table not in page HTML\n"
     ]
    },
    {
     "name": "stderr",
     "output_type": "stream",
     "text": [
      "144it [02:08,  1.51it/s]"
     ]
    },
    {
     "name": "stdout",
     "output_type": "stream",
     "text": [
      "Error parsing stage 143 at race/gp-industria-artigianato/2020/result: could not convert string to float: '-'\n",
      "Error retrieving results for stage 143 at race/gp-industria-artigianato/2020/result: Results table not in page HTML\n"
     ]
    },
    {
     "name": "stderr",
     "output_type": "stream",
     "text": [
      "147it [02:10,  1.45it/s]"
     ]
    },
    {
     "name": "stdout",
     "output_type": "stream",
     "text": [
      "Error retrieving stage 146 at race/tour-de-suisse/2020/result\n"
     ]
    },
    {
     "name": "stderr",
     "output_type": "stream",
     "text": [
      "150it [02:13,  1.42it/s]"
     ]
    },
    {
     "name": "stdout",
     "output_type": "stream",
     "text": [
      "Error retrieving stage 149 at race/itzulia-basque-country/2020/result\n"
     ]
    },
    {
     "name": "stderr",
     "output_type": "stream",
     "text": [
      "152it [02:14,  1.38it/s]"
     ]
    },
    {
     "name": "stdout",
     "output_type": "stream",
     "text": [
      "Error parsing stage 151 at race/tour-of-austria/2020/stage-1: could not convert string to float: '-'\n",
      "Error retrieving results for stage 151 at race/tour-of-austria/2020/stage-1: Results table not in page HTML\n"
     ]
    },
    {
     "name": "stderr",
     "output_type": "stream",
     "text": [
      "153it [02:15,  1.45it/s]"
     ]
    },
    {
     "name": "stdout",
     "output_type": "stream",
     "text": [
      "Error parsing stage 152 at race/tour-of-austria/2020/stage-2: could not convert string to float: '-'\n",
      "Error retrieving results for stage 152 at race/tour-of-austria/2020/stage-2: Results table not in page HTML\n"
     ]
    },
    {
     "name": "stderr",
     "output_type": "stream",
     "text": [
      "154it [02:15,  1.37it/s]"
     ]
    },
    {
     "name": "stdout",
     "output_type": "stream",
     "text": [
      "Error parsing stage 153 at race/tour-of-austria/2020/stage-3: could not convert string to float: '-'\n",
      "Error retrieving results for stage 153 at race/tour-of-austria/2020/stage-3: Results table not in page HTML\n"
     ]
    },
    {
     "name": "stderr",
     "output_type": "stream",
     "text": [
      "155it [02:16,  1.42it/s]"
     ]
    },
    {
     "name": "stdout",
     "output_type": "stream",
     "text": [
      "Error parsing stage 154 at race/tour-of-austria/2020/stage-4: could not convert string to float: '-'\n",
      "Error retrieving results for stage 154 at race/tour-of-austria/2020/stage-4: Results table not in page HTML\n"
     ]
    },
    {
     "name": "stderr",
     "output_type": "stream",
     "text": [
      "156it [02:17,  1.45it/s]"
     ]
    },
    {
     "name": "stdout",
     "output_type": "stream",
     "text": [
      "Error parsing stage 155 at race/tour-of-austria/2020/stage-5: could not convert string to float: '-'\n",
      "Error retrieving results for stage 155 at race/tour-of-austria/2020/stage-5: Results table not in page HTML\n"
     ]
    },
    {
     "name": "stderr",
     "output_type": "stream",
     "text": [
      "157it [02:17,  1.46it/s]"
     ]
    },
    {
     "name": "stdout",
     "output_type": "stream",
     "text": [
      "Error parsing stage 156 at race/tour-of-austria/2020/stage-6: could not convert string to float: '-'\n",
      "Error retrieving results for stage 156 at race/tour-of-austria/2020/stage-6: Results table not in page HTML\n"
     ]
    },
    {
     "name": "stderr",
     "output_type": "stream",
     "text": [
      "158it [02:18,  1.51it/s]"
     ]
    },
    {
     "name": "stdout",
     "output_type": "stream",
     "text": [
      "Error parsing stage 157 at race/tour-of-austria/2020/stage-7: could not convert string to float: '-'\n",
      "Error retrieving results for stage 157 at race/tour-of-austria/2020/stage-7: Results table not in page HTML\n"
     ]
    },
    {
     "name": "stderr",
     "output_type": "stream",
     "text": [
      "174it [02:33,  1.11it/s]"
     ]
    },
    {
     "name": "stdout",
     "output_type": "stream",
     "text": [
      "Error parsing stage 173 at race/gp-impanis-van-petegem/2020/result: could not convert string to float: '-'\n",
      "Error retrieving results for stage 173 at race/gp-impanis-van-petegem/2020/result: Results table not in page HTML\n"
     ]
    },
    {
     "name": "stderr",
     "output_type": "stream",
     "text": [
      "176it [02:34,  1.22it/s]"
     ]
    },
    {
     "name": "stdout",
     "output_type": "stream",
     "text": [
      "Error parsing stage 175 at race/gp-montreal/2020/result: could not convert string to float: '-'\n",
      "Error retrieving results for stage 175 at race/gp-montreal/2020/result: Results table not in page HTML\n"
     ]
    },
    {
     "name": "stderr",
     "output_type": "stream",
     "text": [
      "179it [02:37,  1.30it/s]"
     ]
    },
    {
     "name": "stdout",
     "output_type": "stream",
     "text": [
      "Error parsing stage 178 at race/bredene-koksijde-classic/2020/result: could not convert string to float: '-'\n",
      "Error retrieving results for stage 178 at race/bredene-koksijde-classic/2020/result: Results table not in page HTML\n"
     ]
    },
    {
     "name": "stderr",
     "output_type": "stream",
     "text": [
      "180it [02:37,  1.29it/s]"
     ]
    },
    {
     "name": "stdout",
     "output_type": "stream",
     "text": [
      "Error parsing stage 179 at race/dwars-door-vlaanderen/2020/result: could not convert string to float: '-'\n",
      "Error retrieving results for stage 179 at race/dwars-door-vlaanderen/2020/result: Results table not in page HTML\n"
     ]
    },
    {
     "name": "stderr",
     "output_type": "stream",
     "text": [
      "196it [02:52,  1.05it/s]"
     ]
    },
    {
     "name": "stdout",
     "output_type": "stream",
     "text": [
      "Error parsing stage 195 at race/national-championships-saudi-arabia-itt/2020/result: could not convert string to float: '-'\n"
     ]
    },
    {
     "name": "stderr",
     "output_type": "stream",
     "text": [
      "198it [02:54,  1.08it/s]"
     ]
    },
    {
     "name": "stdout",
     "output_type": "stream",
     "text": [
      "Error retrieving stage 197 at race/4-jours-de-dunkerque/2020/result\n"
     ]
    },
    {
     "name": "stderr",
     "output_type": "stream",
     "text": [
      "209it [03:04,  1.19it/s]"
     ]
    },
    {
     "name": "stdout",
     "output_type": "stream",
     "text": [
      "Error parsing stage 208 at race/nc-moldova-itt/2020/result: could not convert string to float: '-'\n"
     ]
    },
    {
     "name": "stderr",
     "output_type": "stream",
     "text": [
      "221it [03:15,  1.09it/s]"
     ]
    },
    {
     "name": "stdout",
     "output_type": "stream",
     "text": [
      "Error parsing stage 220 at race/nc-greece/2020/result: could not convert string to float: '-'\n"
     ]
    },
    {
     "name": "stderr",
     "output_type": "stream",
     "text": [
      "224it [03:18,  1.21it/s]"
     ]
    },
    {
     "name": "stdout",
     "output_type": "stream",
     "text": [
      "Error parsing stage 223 at race/gp-de-fourmies/2020/result: could not convert string to float: '-'\n",
      "Error retrieving results for stage 223 at race/gp-de-fourmies/2020/result: Results table not in page HTML\n"
     ]
    },
    {
     "name": "stderr",
     "output_type": "stream",
     "text": [
      "225it [03:18,  1.22it/s]"
     ]
    },
    {
     "name": "stdout",
     "output_type": "stream",
     "text": [
      "Error parsing stage 224 at race/amstel-gold-race/2020/result: could not convert string to float: '-'\n",
      "Error retrieving results for stage 224 at race/amstel-gold-race/2020/result: Results table not in page HTML\n"
     ]
    },
    {
     "name": "stderr",
     "output_type": "stream",
     "text": [
      "226it [03:19,  1.21it/s]"
     ]
    },
    {
     "name": "stdout",
     "output_type": "stream",
     "text": [
      "Error retrieving stage 225 at race/tour-of-turkey/2020/result\n"
     ]
    },
    {
     "name": "stderr",
     "output_type": "stream",
     "text": [
      "227it [03:20,  1.30it/s]"
     ]
    },
    {
     "name": "stdout",
     "output_type": "stream",
     "text": [
      "Error parsing stage 226 at race/zlm-tour/2020/stage-1: could not convert string to float: '-'\n",
      "Error retrieving results for stage 226 at race/zlm-tour/2020/stage-1: Results table not in page HTML\n"
     ]
    },
    {
     "name": "stderr",
     "output_type": "stream",
     "text": [
      "228it [03:21,  1.28it/s]"
     ]
    },
    {
     "name": "stdout",
     "output_type": "stream",
     "text": [
      "Error parsing stage 227 at race/zlm-tour/2020/stage-2: could not convert string to float: '-'\n",
      "Error retrieving results for stage 227 at race/zlm-tour/2020/stage-2: Results table not in page HTML\n"
     ]
    },
    {
     "name": "stderr",
     "output_type": "stream",
     "text": [
      "229it [03:21,  1.26it/s]"
     ]
    },
    {
     "name": "stdout",
     "output_type": "stream",
     "text": [
      "Error parsing stage 228 at race/zlm-tour/2020/stage-3: could not convert string to float: '-'\n",
      "Error retrieving results for stage 228 at race/zlm-tour/2020/stage-3: Results table not in page HTML\n"
     ]
    },
    {
     "name": "stderr",
     "output_type": "stream",
     "text": [
      "230it [03:22,  1.33it/s]"
     ]
    },
    {
     "name": "stdout",
     "output_type": "stream",
     "text": [
      "Error parsing stage 229 at race/zlm-tour/2020/stage-4: could not convert string to float: '-'\n",
      "Error retrieving results for stage 229 at race/zlm-tour/2020/stage-4: Results table not in page HTML\n"
     ]
    },
    {
     "name": "stderr",
     "output_type": "stream",
     "text": [
      "231it [03:23,  1.39it/s]"
     ]
    },
    {
     "name": "stdout",
     "output_type": "stream",
     "text": [
      "Error parsing stage 230 at race/zlm-tour/2020/stage-5: could not convert string to float: '-'\n",
      "Error retrieving results for stage 230 at race/zlm-tour/2020/stage-5: Results table not in page HTML\n"
     ]
    },
    {
     "name": "stderr",
     "output_type": "stream",
     "text": [
      "232it [03:23,  1.38it/s]"
     ]
    },
    {
     "name": "stdout",
     "output_type": "stream",
     "text": [
      "Error parsing stage 231 at race/tour-of-guangxi/2020/stage-1: could not convert string to float: '-'\n",
      "Error retrieving results for stage 231 at race/tour-of-guangxi/2020/stage-1: Results table not in page HTML\n"
     ]
    },
    {
     "name": "stderr",
     "output_type": "stream",
     "text": [
      "233it [03:24,  1.44it/s]"
     ]
    },
    {
     "name": "stdout",
     "output_type": "stream",
     "text": [
      "Error parsing stage 232 at race/tour-of-guangxi/2020/stage-2: could not convert string to float: '-'\n",
      "Error retrieving results for stage 232 at race/tour-of-guangxi/2020/stage-2: Results table not in page HTML\n"
     ]
    },
    {
     "name": "stderr",
     "output_type": "stream",
     "text": [
      "234it [03:25,  1.50it/s]"
     ]
    },
    {
     "name": "stdout",
     "output_type": "stream",
     "text": [
      "Error parsing stage 233 at race/tour-of-guangxi/2020/stage-3: could not convert string to float: '-'\n",
      "Error retrieving results for stage 233 at race/tour-of-guangxi/2020/stage-3: Results table not in page HTML\n"
     ]
    },
    {
     "name": "stderr",
     "output_type": "stream",
     "text": [
      "235it [03:25,  1.53it/s]"
     ]
    },
    {
     "name": "stdout",
     "output_type": "stream",
     "text": [
      "Error parsing stage 234 at race/tour-of-guangxi/2020/stage-4: could not convert string to float: '-'\n",
      "Error retrieving results for stage 234 at race/tour-of-guangxi/2020/stage-4: Results table not in page HTML\n"
     ]
    },
    {
     "name": "stderr",
     "output_type": "stream",
     "text": [
      "236it [03:26,  1.42it/s]"
     ]
    },
    {
     "name": "stdout",
     "output_type": "stream",
     "text": [
      "Error parsing stage 235 at race/tour-of-guangxi/2020/stage-5: could not convert string to float: '-'\n",
      "Error retrieving results for stage 235 at race/tour-of-guangxi/2020/stage-5: Results table not in page HTML\n"
     ]
    },
    {
     "name": "stderr",
     "output_type": "stream",
     "text": [
      "237it [03:27,  1.36it/s]"
     ]
    },
    {
     "name": "stdout",
     "output_type": "stream",
     "text": [
      "Error parsing stage 236 at race/tour-of-guangxi/2020/stage-6: could not convert string to float: '-'\n",
      "Error retrieving results for stage 236 at race/tour-of-guangxi/2020/stage-6: Results table not in page HTML\n"
     ]
    },
    {
     "name": "stderr",
     "output_type": "stream",
     "text": [
      "238it [03:28,  1.41it/s]"
     ]
    },
    {
     "name": "stdout",
     "output_type": "stream",
     "text": [
      "Error parsing stage 237 at race/nc-malaysia-itt/2020/result: could not convert string to float: '-'\n"
     ]
    },
    {
     "name": "stderr",
     "output_type": "stream",
     "text": [
      "241it [03:30,  1.40it/s]"
     ]
    },
    {
     "name": "stdout",
     "output_type": "stream",
     "text": [
      "Error parsing stage 240 at race/tre-valli-varesine/2020/result: could not convert string to float: '-'\n",
      "Error retrieving results for stage 240 at race/tre-valli-varesine/2020/result: Results table not in page HTML\n"
     ]
    },
    {
     "name": "stderr",
     "output_type": "stream",
     "text": [
      "246it [03:34,  1.39it/s]"
     ]
    },
    {
     "name": "stdout",
     "output_type": "stream",
     "text": [
      "Error parsing stage 245 at race/gp-de-plumelec/2020/result: could not convert string to float: '-'\n",
      "Error retrieving results for stage 245 at race/gp-de-plumelec/2020/result: Results table not in page HTML\n"
     ]
    },
    {
     "name": "stderr",
     "output_type": "stream",
     "text": [
      "248it [03:35,  1.27it/s]"
     ]
    },
    {
     "name": "stdout",
     "output_type": "stream",
     "text": [
      "Error parsing stage 247 at race/tro-bro-leon/2020/result: could not convert string to float: '-'\n",
      "Error retrieving results for stage 247 at race/tro-bro-leon/2020/result: Results table not in page HTML\n"
     ]
    },
    {
     "name": "stderr",
     "output_type": "stream",
     "text": [
      "250it [03:37,  1.41it/s]"
     ]
    },
    {
     "name": "stdout",
     "output_type": "stream",
     "text": [
      "Error retrieving stage 249 at race/tour-de-romandie/2020/result\n"
     ]
    },
    {
     "name": "stderr",
     "output_type": "stream",
     "text": [
      "257it [03:42,  1.34it/s]"
     ]
    },
    {
     "name": "stdout",
     "output_type": "stream",
     "text": [
      "Error parsing stage 256 at race/gran-premio-miguel-indurain/2020/result: could not convert string to float: '-'\n",
      "Error retrieving results for stage 256 at race/gran-premio-miguel-indurain/2020/result: Results table not in page HTML\n"
     ]
    },
    {
     "name": "stderr",
     "output_type": "stream",
     "text": [
      "258it [03:43,  1.39it/s]"
     ]
    },
    {
     "name": "stdout",
     "output_type": "stream",
     "text": [
      "Error parsing stage 257 at race/nc-albania/2020/result: could not convert string to float: '-'\n"
     ]
    },
    {
     "name": "stderr",
     "output_type": "stream",
     "text": [
      "267it [03:51,  1.10it/s]"
     ]
    },
    {
     "name": "stdout",
     "output_type": "stream",
     "text": [
      "Error parsing stage 266 at race/national-championships-saint-vincent4/2020/result: could not convert string to float: '-'\n"
     ]
    },
    {
     "name": "stderr",
     "output_type": "stream",
     "text": [
      "278it [04:01,  1.07it/s]"
     ]
    },
    {
     "name": "stdout",
     "output_type": "stream",
     "text": [
      "Error parsing stage 277 at race/tour-of-britain/2020/stage-1: could not convert string to float: '-'\n",
      "Error retrieving results for stage 277 at race/tour-of-britain/2020/stage-1: Results table not in page HTML\n"
     ]
    },
    {
     "name": "stderr",
     "output_type": "stream",
     "text": [
      "279it [04:02,  1.08it/s]"
     ]
    },
    {
     "name": "stdout",
     "output_type": "stream",
     "text": [
      "Error parsing stage 278 at race/tour-of-britain/2020/stage-2: could not convert string to float: '-'\n",
      "Error retrieving results for stage 278 at race/tour-of-britain/2020/stage-2: Results table not in page HTML\n"
     ]
    },
    {
     "name": "stderr",
     "output_type": "stream",
     "text": [
      "280it [04:03,  1.20it/s]"
     ]
    },
    {
     "name": "stdout",
     "output_type": "stream",
     "text": [
      "Error parsing stage 279 at race/tour-of-britain/2020/stage-3: could not convert string to float: '-'\n",
      "Error retrieving results for stage 279 at race/tour-of-britain/2020/stage-3: Results table not in page HTML\n"
     ]
    },
    {
     "name": "stderr",
     "output_type": "stream",
     "text": [
      "281it [04:04,  1.23it/s]"
     ]
    },
    {
     "name": "stdout",
     "output_type": "stream",
     "text": [
      "Error parsing stage 280 at race/tour-of-britain/2020/stage-4: could not convert string to float: '-'\n",
      "Error retrieving results for stage 280 at race/tour-of-britain/2020/stage-4: Results table not in page HTML\n"
     ]
    },
    {
     "name": "stderr",
     "output_type": "stream",
     "text": [
      "282it [04:04,  1.29it/s]"
     ]
    },
    {
     "name": "stdout",
     "output_type": "stream",
     "text": [
      "Error parsing stage 281 at race/tour-of-britain/2020/stage-5: could not convert string to float: '-'\n",
      "Error retrieving results for stage 281 at race/tour-of-britain/2020/stage-5: Results table not in page HTML\n"
     ]
    },
    {
     "name": "stderr",
     "output_type": "stream",
     "text": [
      "283it [04:05,  1.28it/s]"
     ]
    },
    {
     "name": "stdout",
     "output_type": "stream",
     "text": [
      "Error parsing stage 282 at race/tour-of-britain/2020/stage-6: could not convert string to float: '-'\n",
      "Error retrieving results for stage 282 at race/tour-of-britain/2020/stage-6: Results table not in page HTML\n"
     ]
    },
    {
     "name": "stderr",
     "output_type": "stream",
     "text": [
      "284it [04:06,  1.36it/s]"
     ]
    },
    {
     "name": "stdout",
     "output_type": "stream",
     "text": [
      "Error parsing stage 283 at race/tour-of-britain/2020/stage-7: could not convert string to float: '-'\n",
      "Error retrieving results for stage 283 at race/tour-of-britain/2020/stage-7: Results table not in page HTML\n"
     ]
    },
    {
     "name": "stderr",
     "output_type": "stream",
     "text": [
      "285it [04:07,  1.32it/s]"
     ]
    },
    {
     "name": "stdout",
     "output_type": "stream",
     "text": [
      "Error parsing stage 284 at race/tour-of-britain/2020/stage-8: could not convert string to float: '-'\n",
      "Error retrieving results for stage 284 at race/tour-of-britain/2020/stage-8: Results table not in page HTML\n"
     ]
    },
    {
     "name": "stderr",
     "output_type": "stream",
     "text": [
      "291it [04:12,  1.13it/s]"
     ]
    },
    {
     "name": "stdout",
     "output_type": "stream",
     "text": [
      "Error parsing stage 290 at race/nc-mongolia/2020/result: could not convert string to float: '-'\n"
     ]
    },
    {
     "name": "stderr",
     "output_type": "stream",
     "text": [
      "292it [04:13,  1.17it/s]"
     ]
    },
    {
     "name": "stdout",
     "output_type": "stream",
     "text": [
      "Error parsing stage 291 at race/nc-mongolia-itt/2020/result: could not convert string to float: '-'\n"
     ]
    },
    {
     "name": "stderr",
     "output_type": "stream",
     "text": [
      "293it [04:14,  1.28it/s]"
     ]
    },
    {
     "name": "stdout",
     "output_type": "stream",
     "text": [
      "Error parsing stage 292 at race/paris-roubaix/2020/result: could not convert string to float: '-'\n",
      "Error retrieving results for stage 292 at race/paris-roubaix/2020/result: Results table not in page HTML\n"
     ]
    },
    {
     "name": "stderr",
     "output_type": "stream",
     "text": [
      "295it [04:15,  1.32it/s]"
     ]
    },
    {
     "name": "stdout",
     "output_type": "stream",
     "text": [
      "Error parsing stage 294 at race/e3-harelbeke/2020/result: could not convert string to float: '-'\n",
      "Error retrieving results for stage 294 at race/e3-harelbeke/2020/result: Results table not in page HTML\n"
     ]
    },
    {
     "name": "stderr",
     "output_type": "stream",
     "text": [
      "303it [04:22,  1.23it/s]"
     ]
    },
    {
     "name": "stdout",
     "output_type": "stream",
     "text": [
      "Error parsing stage 302 at race/paris-nice/2020/stage-8: could not convert string to float: '-'\n",
      "Error retrieving results for stage 302 at race/paris-nice/2020/stage-8: Results table not in page HTML\n"
     ]
    },
    {
     "name": "stderr",
     "output_type": "stream",
     "text": [
      "315it [04:33,  1.14it/s]"
     ]
    },
    {
     "name": "stdout",
     "output_type": "stream",
     "text": [
      "Error parsing stage 314 at race/gp-de-denain/2020/result: could not convert string to float: '-'\n",
      "Error retrieving results for stage 314 at race/gp-de-denain/2020/result: Results table not in page HTML\n"
     ]
    },
    {
     "name": "stderr",
     "output_type": "stream",
     "text": [
      "322it [04:39,  1.18it/s]"
     ]
    },
    {
     "name": "stdout",
     "output_type": "stream",
     "text": [
      "Error parsing stage 321 at race/san-sebastian/2020/result: could not convert string to float: '-'\n",
      "Error retrieving results for stage 321 at race/san-sebastian/2020/result: Results table not in page HTML\n"
     ]
    },
    {
     "name": "stderr",
     "output_type": "stream",
     "text": [
      "324it [04:41,  1.18it/s]"
     ]
    },
    {
     "name": "stdout",
     "output_type": "stream",
     "text": [
      "Error parsing stage 323 at race/boucles-de-la-mayenne/2020/stage-1: could not convert string to float: '-'\n",
      "Error retrieving results for stage 323 at race/boucles-de-la-mayenne/2020/stage-1: Results table not in page HTML\n"
     ]
    },
    {
     "name": "stderr",
     "output_type": "stream",
     "text": [
      "325it [04:42,  1.27it/s]"
     ]
    },
    {
     "name": "stdout",
     "output_type": "stream",
     "text": [
      "Error parsing stage 324 at race/boucles-de-la-mayenne/2020/stage-2: could not convert string to float: '-'\n",
      "Error retrieving results for stage 324 at race/boucles-de-la-mayenne/2020/stage-2: Results table not in page HTML\n"
     ]
    },
    {
     "name": "stderr",
     "output_type": "stream",
     "text": [
      "326it [04:42,  1.35it/s]"
     ]
    },
    {
     "name": "stdout",
     "output_type": "stream",
     "text": [
      "Error parsing stage 325 at race/boucles-de-la-mayenne/2020/stage-3: could not convert string to float: '-'\n",
      "Error retrieving results for stage 325 at race/boucles-de-la-mayenne/2020/stage-3: Results table not in page HTML\n"
     ]
    },
    {
     "name": "stderr",
     "output_type": "stream",
     "text": [
      "327it [04:43,  1.37it/s]"
     ]
    },
    {
     "name": "stdout",
     "output_type": "stream",
     "text": [
      "Error parsing stage 326 at race/boucles-de-la-mayenne/2020/stage-4: could not convert string to float: '-'\n",
      "Error retrieving results for stage 326 at race/boucles-de-la-mayenne/2020/stage-4: Results table not in page HTML\n"
     ]
    },
    {
     "name": "stderr",
     "output_type": "stream",
     "text": [
      "328it [04:44,  1.37it/s]"
     ]
    },
    {
     "name": "stdout",
     "output_type": "stream",
     "text": [
      "Error parsing stage 327 at race/nc-bermuda-itt/2020/result: could not convert string to float: '-'\n"
     ]
    },
    {
     "name": "stderr",
     "output_type": "stream",
     "text": [
      "329it [04:44,  1.39it/s]"
     ]
    },
    {
     "name": "stdout",
     "output_type": "stream",
     "text": [
      "Error parsing stage 328 at race/nc-moldova/2020/result: could not convert string to float: '-'\n"
     ]
    },
    {
     "name": "stderr",
     "output_type": "stream",
     "text": [
      "331it [04:46,  1.39it/s]"
     ]
    },
    {
     "name": "stdout",
     "output_type": "stream",
     "text": [
      "Error parsing stage 330 at race/nc-lithuania/2020/result: could not convert string to float: '-'\n"
     ]
    },
    {
     "name": "stderr",
     "output_type": "stream",
     "text": [
      "332it [04:47,  1.34it/s]"
     ]
    },
    {
     "name": "stdout",
     "output_type": "stream",
     "text": [
      "Error parsing stage 331 at race/national-championships-saint-vincent1/2020/result: could not convert string to float: '-'\n"
     ]
    },
    {
     "name": "stderr",
     "output_type": "stream",
     "text": [
      "341it [04:54,  1.29it/s]"
     ]
    },
    {
     "name": "stdout",
     "output_type": "stream",
     "text": [
      "Error parsing stage 340 at race/nc-macedonia/2020/result: could not convert string to float: '-'\n"
     ]
    },
    {
     "name": "stderr",
     "output_type": "stream",
     "text": [
      "344it [04:56,  1.28it/s]"
     ]
    },
    {
     "name": "stdout",
     "output_type": "stream",
     "text": [
      "Error parsing stage 343 at race/nc-ukraine/2020/result: could not convert string to float: '-'\n"
     ]
    },
    {
     "name": "stderr",
     "output_type": "stream",
     "text": [
      "346it [04:58,  1.16it/s]\n"
     ]
    },
    {
     "name": "stdout",
     "output_type": "stream",
     "text": [
      "Expanding results for 2020\n",
      "Expanding main results\n"
     ]
    },
    {
     "name": "stderr",
     "output_type": "stream",
     "text": [
      "100%|██████████| 346/346 [00:54<00:00,  6.39it/s]\n"
     ]
    },
    {
     "name": "stdout",
     "output_type": "stream",
     "text": [
      "Expanding secondary results\n"
     ]
    },
    {
     "name": "stderr",
     "output_type": "stream",
     "text": [
      "346it [00:05, 60.92it/s] \n",
      "346it [00:01, 226.14it/s]\n",
      "346it [00:00, 472.88it/s]\n",
      "346it [00:01, 334.76it/s]\n"
     ]
    }
   ],
   "source": [
    "# Run whole setup for 2018-2020 with saves\n",
    "results_df_2018_2020 = pull_race_data([2018,2019,2020])"
   ]
  }
 ],
 "metadata": {
  "kernelspec": {
   "display_name": ".venv",
   "language": "python",
   "name": "python3"
  },
  "language_info": {
   "codemirror_mode": {
    "name": "ipython",
    "version": 3
   },
   "file_extension": ".py",
   "mimetype": "text/x-python",
   "name": "python",
   "nbconvert_exporter": "python",
   "pygments_lexer": "ipython3",
   "version": "3.12.4"
  }
 },
 "nbformat": 4,
 "nbformat_minor": 2
}
